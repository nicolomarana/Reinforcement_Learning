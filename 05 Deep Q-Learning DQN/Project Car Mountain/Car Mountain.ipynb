{
 "cells": [
  {
   "cell_type": "markdown",
   "metadata": {},
   "source": [
    "# Import Library"
   ]
  },
  {
   "cell_type": "code",
   "execution_count": 2,
   "metadata": {},
   "outputs": [],
   "source": [
    "import numpy as np\n",
    "import gym\n",
    "\n",
    "from keras.models import Sequential\n",
    "from keras.layers import Dense, Activation, Flatten, Dropout\n",
    "from keras.optimizers import Adam\n",
    "\n",
    "from rl.agents.dqn import DQNAgent\n",
    "from rl.policy import BoltzmannQPolicy, EpsGreedyQPolicy\n",
    "from rl.memory import SequentialMemory\n",
    "\n",
    "from keras.models import Sequential\n",
    "from keras.layers import Dense\n",
    "from keras.utils.vis_utils import plot_model"
   ]
  },
  {
   "cell_type": "markdown",
   "metadata": {},
   "source": [
    "# Import Environment"
   ]
  },
  {
   "cell_type": "code",
   "execution_count": 52,
   "metadata": {},
   "outputs": [],
   "source": [
    "ENV_NAME = 'MountainCar-v0'"
   ]
  },
  {
   "cell_type": "code",
   "execution_count": 53,
   "metadata": {},
   "outputs": [],
   "source": [
    "gym.logger.set_level(40)\n",
    "env = gym.make(ENV_NAME)\n",
    "np.random.seed(123)\n",
    "env.seed(123)\n",
    "nb_actions = env.action_space.n"
   ]
  },
  {
   "cell_type": "markdown",
   "metadata": {},
   "source": [
    "# Define Neural Network"
   ]
  },
  {
   "cell_type": "code",
   "execution_count": 54,
   "metadata": {},
   "outputs": [],
   "source": [
    "model = Sequential()\n",
    "model.add(Flatten(input_shape=(1,) + env.observation_space.shape))\n",
    "model.add(Dense(32))\n",
    "model.add(Activation('relu'))\n",
    "model.add(Dense(32))\n",
    "model.add(Activation('relu'))\n",
    "model.add(Dense(32))\n",
    "model.add(Activation('relu'))\n",
    "model.add(Dense(32))\n",
    "model.add(Activation('relu'))\n",
    "model.add(Dense(nb_actions))\n",
    "model.add(Activation('linear'))"
   ]
  },
  {
   "cell_type": "markdown",
   "metadata": {},
   "source": [
    "# Define Agent"
   ]
  },
  {
   "cell_type": "code",
   "execution_count": 55,
   "metadata": {},
   "outputs": [],
   "source": [
    "dqn = DQNAgent(model=model, nb_actions=nb_actions,  memory=SequentialMemory(limit=50000, window_length=1),\n",
    "               nb_steps_warmup=10, target_model_update=1e-3, policy=EpsGreedyQPolicy())\n",
    "\n",
    "dqn.compile(Adam(lr=1e-3), metrics=['mse'])"
   ]
  },
  {
   "cell_type": "markdown",
   "metadata": {},
   "source": [
    "# Fase di Training - Step 5.000"
   ]
  },
  {
   "cell_type": "code",
   "execution_count": 56,
   "metadata": {},
   "outputs": [
    {
     "name": "stdout",
     "output_type": "stream",
     "text": [
      "Training for 5000 steps ...\n",
      "Interval 1 (0 steps performed)\n",
      " 4995/10000 [=============>................] - ETA: 22s - reward: -1.0000done, took 22.349 seconds\n"
     ]
    },
    {
     "data": {
      "text/plain": [
       "<keras.callbacks.History at 0x1298870b8>"
      ]
     },
     "execution_count": 56,
     "metadata": {},
     "output_type": "execute_result"
    }
   ],
   "source": [
    "dqn.fit(env, nb_steps=5000, visualize=False, verbose=1)"
   ]
  },
  {
   "cell_type": "markdown",
   "metadata": {},
   "source": [
    "# Save Weight - Step 5.000"
   ]
  },
  {
   "cell_type": "code",
   "execution_count": 57,
   "metadata": {},
   "outputs": [],
   "source": [
    "dqn.save_weights('dqn_{}_weights-exp-5K.h5f'.format(ENV_NAME), overwrite=True)"
   ]
  },
  {
   "cell_type": "markdown",
   "metadata": {},
   "source": [
    "# Load Weight - Step 5.000"
   ]
  },
  {
   "cell_type": "code",
   "execution_count": 58,
   "metadata": {},
   "outputs": [],
   "source": [
    "weights_filename = 'dqn_MountainCar-v0_weights-exp-5K.h5f'\n",
    "dqn.load_weights(weights_filename)"
   ]
  },
  {
   "cell_type": "markdown",
   "metadata": {},
   "source": [
    "# Testing x 100 Mean - Step 5.000"
   ]
  },
  {
   "cell_type": "code",
   "execution_count": 59,
   "metadata": {
    "scrolled": true
   },
   "outputs": [
    {
     "name": "stdout",
     "output_type": "stream",
     "text": [
      "Testing for 100 episodes ...\n",
      "Episode 1: reward: -200.000, steps: 200\n",
      "Episode 2: reward: -200.000, steps: 200\n",
      "Episode 3: reward: -200.000, steps: 200\n",
      "Episode 4: reward: -200.000, steps: 200\n",
      "Episode 5: reward: -200.000, steps: 200\n",
      "Episode 6: reward: -200.000, steps: 200\n",
      "Episode 7: reward: -200.000, steps: 200\n",
      "Episode 8: reward: -200.000, steps: 200\n",
      "Episode 9: reward: -200.000, steps: 200\n",
      "Episode 10: reward: -200.000, steps: 200\n",
      "Episode 11: reward: -200.000, steps: 200\n",
      "Episode 12: reward: -200.000, steps: 200\n",
      "Episode 13: reward: -200.000, steps: 200\n",
      "Episode 14: reward: -200.000, steps: 200\n",
      "Episode 15: reward: -200.000, steps: 200\n",
      "Episode 16: reward: -200.000, steps: 200\n",
      "Episode 17: reward: -200.000, steps: 200\n",
      "Episode 18: reward: -200.000, steps: 200\n",
      "Episode 19: reward: -200.000, steps: 200\n",
      "Episode 20: reward: -200.000, steps: 200\n",
      "Episode 21: reward: -200.000, steps: 200\n",
      "Episode 22: reward: -200.000, steps: 200\n",
      "Episode 23: reward: -200.000, steps: 200\n",
      "Episode 24: reward: -200.000, steps: 200\n",
      "Episode 25: reward: -200.000, steps: 200\n",
      "Episode 26: reward: -200.000, steps: 200\n",
      "Episode 27: reward: -200.000, steps: 200\n",
      "Episode 28: reward: -200.000, steps: 200\n",
      "Episode 29: reward: -200.000, steps: 200\n",
      "Episode 30: reward: -200.000, steps: 200\n",
      "Episode 31: reward: -200.000, steps: 200\n",
      "Episode 32: reward: -200.000, steps: 200\n",
      "Episode 33: reward: -200.000, steps: 200\n",
      "Episode 34: reward: -200.000, steps: 200\n",
      "Episode 35: reward: -200.000, steps: 200\n",
      "Episode 36: reward: -200.000, steps: 200\n",
      "Episode 37: reward: -200.000, steps: 200\n",
      "Episode 38: reward: -200.000, steps: 200\n",
      "Episode 39: reward: -200.000, steps: 200\n",
      "Episode 40: reward: -200.000, steps: 200\n",
      "Episode 41: reward: -200.000, steps: 200\n",
      "Episode 42: reward: -200.000, steps: 200\n",
      "Episode 43: reward: -200.000, steps: 200\n",
      "Episode 44: reward: -200.000, steps: 200\n",
      "Episode 45: reward: -200.000, steps: 200\n",
      "Episode 46: reward: -200.000, steps: 200\n",
      "Episode 47: reward: -200.000, steps: 200\n",
      "Episode 48: reward: -200.000, steps: 200\n",
      "Episode 49: reward: -200.000, steps: 200\n",
      "Episode 50: reward: -200.000, steps: 200\n",
      "Episode 51: reward: -200.000, steps: 200\n",
      "Episode 52: reward: -200.000, steps: 200\n",
      "Episode 53: reward: -200.000, steps: 200\n",
      "Episode 54: reward: -200.000, steps: 200\n",
      "Episode 55: reward: -200.000, steps: 200\n",
      "Episode 56: reward: -200.000, steps: 200\n",
      "Episode 57: reward: -200.000, steps: 200\n",
      "Episode 58: reward: -200.000, steps: 200\n",
      "Episode 59: reward: -200.000, steps: 200\n",
      "Episode 60: reward: -200.000, steps: 200\n",
      "Episode 61: reward: -200.000, steps: 200\n",
      "Episode 62: reward: -200.000, steps: 200\n",
      "Episode 63: reward: -200.000, steps: 200\n",
      "Episode 64: reward: -200.000, steps: 200\n",
      "Episode 65: reward: -200.000, steps: 200\n",
      "Episode 66: reward: -200.000, steps: 200\n",
      "Episode 67: reward: -200.000, steps: 200\n",
      "Episode 68: reward: -200.000, steps: 200\n",
      "Episode 69: reward: -200.000, steps: 200\n",
      "Episode 70: reward: -200.000, steps: 200\n",
      "Episode 71: reward: -200.000, steps: 200\n",
      "Episode 72: reward: -200.000, steps: 200\n",
      "Episode 73: reward: -200.000, steps: 200\n",
      "Episode 74: reward: -200.000, steps: 200\n",
      "Episode 75: reward: -200.000, steps: 200\n",
      "Episode 76: reward: -200.000, steps: 200\n",
      "Episode 77: reward: -200.000, steps: 200\n",
      "Episode 78: reward: -200.000, steps: 200\n",
      "Episode 79: reward: -200.000, steps: 200\n",
      "Episode 80: reward: -200.000, steps: 200\n",
      "Episode 81: reward: -200.000, steps: 200\n",
      "Episode 82: reward: -200.000, steps: 200\n",
      "Episode 83: reward: -200.000, steps: 200\n",
      "Episode 84: reward: -200.000, steps: 200\n",
      "Episode 85: reward: -200.000, steps: 200\n",
      "Episode 86: reward: -200.000, steps: 200\n",
      "Episode 87: reward: -200.000, steps: 200\n",
      "Episode 88: reward: -200.000, steps: 200\n",
      "Episode 89: reward: -200.000, steps: 200\n",
      "Episode 90: reward: -200.000, steps: 200\n",
      "Episode 91: reward: -200.000, steps: 200\n",
      "Episode 92: reward: -200.000, steps: 200\n",
      "Episode 93: reward: -200.000, steps: 200\n",
      "Episode 94: reward: -200.000, steps: 200\n",
      "Episode 95: reward: -200.000, steps: 200\n",
      "Episode 96: reward: -200.000, steps: 200\n",
      "Episode 97: reward: -200.000, steps: 200\n",
      "Episode 98: reward: -200.000, steps: 200\n",
      "Episode 99: reward: -200.000, steps: 200\n",
      "Episode 100: reward: -200.000, steps: 200\n"
     ]
    }
   ],
   "source": [
    "a = dqn.test(env, nb_episodes=100, visualize=False)"
   ]
  },
  {
   "cell_type": "code",
   "execution_count": 60,
   "metadata": {},
   "outputs": [
    {
     "name": "stdout",
     "output_type": "stream",
     "text": [
      "Mean -200.0\n"
     ]
    }
   ],
   "source": [
    "print('Mean', np.mean(a.history['episode_reward']))"
   ]
  },
  {
   "cell_type": "markdown",
   "metadata": {},
   "source": [
    "# Load Weight - Step 100.000"
   ]
  },
  {
   "cell_type": "code",
   "execution_count": 61,
   "metadata": {},
   "outputs": [],
   "source": [
    "weights_filename = 'dqn_MountainCar-v0_weights-exp-100K.h5f'\n",
    "dqn.load_weights(weights_filename)"
   ]
  },
  {
   "cell_type": "markdown",
   "metadata": {},
   "source": [
    "# Testing x 100 Mean - Step 100.000"
   ]
  },
  {
   "cell_type": "code",
   "execution_count": 62,
   "metadata": {
    "scrolled": true
   },
   "outputs": [
    {
     "name": "stdout",
     "output_type": "stream",
     "text": [
      "Testing for 100 episodes ...\n",
      "Episode 1: reward: -112.000, steps: 112\n",
      "Episode 2: reward: -110.000, steps: 110\n",
      "Episode 3: reward: -108.000, steps: 108\n",
      "Episode 4: reward: -115.000, steps: 115\n",
      "Episode 5: reward: -111.000, steps: 111\n",
      "Episode 6: reward: -112.000, steps: 112\n",
      "Episode 7: reward: -111.000, steps: 111\n",
      "Episode 8: reward: -114.000, steps: 114\n",
      "Episode 9: reward: -96.000, steps: 96\n",
      "Episode 10: reward: -114.000, steps: 114\n",
      "Episode 11: reward: -98.000, steps: 98\n",
      "Episode 12: reward: -111.000, steps: 111\n",
      "Episode 13: reward: -115.000, steps: 115\n",
      "Episode 14: reward: -107.000, steps: 107\n",
      "Episode 15: reward: -114.000, steps: 114\n",
      "Episode 16: reward: -112.000, steps: 112\n",
      "Episode 17: reward: -115.000, steps: 115\n",
      "Episode 18: reward: -114.000, steps: 114\n",
      "Episode 19: reward: -110.000, steps: 110\n",
      "Episode 20: reward: -113.000, steps: 113\n",
      "Episode 21: reward: -113.000, steps: 113\n",
      "Episode 22: reward: -114.000, steps: 114\n",
      "Episode 23: reward: -114.000, steps: 114\n",
      "Episode 24: reward: -112.000, steps: 112\n",
      "Episode 25: reward: -110.000, steps: 110\n",
      "Episode 26: reward: -127.000, steps: 127\n",
      "Episode 27: reward: -112.000, steps: 112\n",
      "Episode 28: reward: -111.000, steps: 111\n",
      "Episode 29: reward: -111.000, steps: 111\n",
      "Episode 30: reward: -116.000, steps: 116\n",
      "Episode 31: reward: -98.000, steps: 98\n",
      "Episode 32: reward: -111.000, steps: 111\n",
      "Episode 33: reward: -112.000, steps: 112\n",
      "Episode 34: reward: -108.000, steps: 108\n",
      "Episode 35: reward: -114.000, steps: 114\n",
      "Episode 36: reward: -100.000, steps: 100\n",
      "Episode 37: reward: -113.000, steps: 113\n",
      "Episode 38: reward: -106.000, steps: 106\n",
      "Episode 39: reward: -115.000, steps: 115\n",
      "Episode 40: reward: -112.000, steps: 112\n",
      "Episode 41: reward: -112.000, steps: 112\n",
      "Episode 42: reward: -112.000, steps: 112\n",
      "Episode 43: reward: -111.000, steps: 111\n",
      "Episode 44: reward: -112.000, steps: 112\n",
      "Episode 45: reward: -107.000, steps: 107\n",
      "Episode 46: reward: -105.000, steps: 105\n",
      "Episode 47: reward: -99.000, steps: 99\n",
      "Episode 48: reward: -111.000, steps: 111\n",
      "Episode 49: reward: -105.000, steps: 105\n",
      "Episode 50: reward: -113.000, steps: 113\n",
      "Episode 51: reward: -110.000, steps: 110\n",
      "Episode 52: reward: -111.000, steps: 111\n",
      "Episode 53: reward: -104.000, steps: 104\n",
      "Episode 54: reward: -111.000, steps: 111\n",
      "Episode 55: reward: -111.000, steps: 111\n",
      "Episode 56: reward: -108.000, steps: 108\n",
      "Episode 57: reward: -108.000, steps: 108\n",
      "Episode 58: reward: -113.000, steps: 113\n",
      "Episode 59: reward: -112.000, steps: 112\n",
      "Episode 60: reward: -95.000, steps: 95\n",
      "Episode 61: reward: -112.000, steps: 112\n",
      "Episode 62: reward: -112.000, steps: 112\n",
      "Episode 63: reward: -114.000, steps: 114\n",
      "Episode 64: reward: -113.000, steps: 113\n",
      "Episode 65: reward: -113.000, steps: 113\n",
      "Episode 66: reward: -112.000, steps: 112\n",
      "Episode 67: reward: -111.000, steps: 111\n",
      "Episode 68: reward: -112.000, steps: 112\n",
      "Episode 69: reward: -111.000, steps: 111\n",
      "Episode 70: reward: -114.000, steps: 114\n",
      "Episode 71: reward: -113.000, steps: 113\n",
      "Episode 72: reward: -111.000, steps: 111\n",
      "Episode 73: reward: -114.000, steps: 114\n",
      "Episode 74: reward: -112.000, steps: 112\n",
      "Episode 75: reward: -113.000, steps: 113\n",
      "Episode 76: reward: -114.000, steps: 114\n",
      "Episode 77: reward: -111.000, steps: 111\n",
      "Episode 78: reward: -111.000, steps: 111\n",
      "Episode 79: reward: -115.000, steps: 115\n",
      "Episode 80: reward: -111.000, steps: 111\n",
      "Episode 81: reward: -113.000, steps: 113\n",
      "Episode 82: reward: -114.000, steps: 114\n",
      "Episode 83: reward: -115.000, steps: 115\n",
      "Episode 84: reward: -95.000, steps: 95\n",
      "Episode 85: reward: -115.000, steps: 115\n",
      "Episode 86: reward: -114.000, steps: 114\n",
      "Episode 87: reward: -112.000, steps: 112\n",
      "Episode 88: reward: -115.000, steps: 115\n",
      "Episode 89: reward: -110.000, steps: 110\n",
      "Episode 90: reward: -111.000, steps: 111\n",
      "Episode 91: reward: -112.000, steps: 112\n",
      "Episode 92: reward: -112.000, steps: 112\n",
      "Episode 93: reward: -110.000, steps: 110\n",
      "Episode 94: reward: -115.000, steps: 115\n",
      "Episode 95: reward: -114.000, steps: 114\n",
      "Episode 96: reward: -113.000, steps: 113\n",
      "Episode 97: reward: -113.000, steps: 113\n",
      "Episode 98: reward: -113.000, steps: 113\n",
      "Episode 99: reward: -108.000, steps: 108\n",
      "Episode 100: reward: -112.000, steps: 112\n"
     ]
    }
   ],
   "source": [
    "a = dqn.test(env, nb_episodes=100, visualize=False)"
   ]
  },
  {
   "cell_type": "code",
   "execution_count": 63,
   "metadata": {},
   "outputs": [
    {
     "name": "stdout",
     "output_type": "stream",
     "text": [
      "Mean -110.96\n"
     ]
    }
   ],
   "source": [
    "print('Mean', np.mean(a.history['episode_reward']))"
   ]
  },
  {
   "cell_type": "markdown",
   "metadata": {},
   "source": [
    "# Visualize 5 Episode"
   ]
  },
  {
   "cell_type": "code",
   "execution_count": 64,
   "metadata": {},
   "outputs": [
    {
     "name": "stdout",
     "output_type": "stream",
     "text": [
      "Testing for 5 episodes ...\n",
      "Episode 1: reward: -112.000, steps: 112\n",
      "Episode 2: reward: -111.000, steps: 111\n",
      "Episode 3: reward: -114.000, steps: 114\n",
      "Episode 4: reward: -113.000, steps: 113\n",
      "Episode 5: reward: -114.000, steps: 114\n"
     ]
    },
    {
     "data": {
      "text/plain": [
       "<keras.callbacks.History at 0x1296f4b00>"
      ]
     },
     "execution_count": 64,
     "metadata": {},
     "output_type": "execute_result"
    }
   ],
   "source": [
    "dqn.test(env, nb_episodes=5, visualize=True)"
   ]
  },
  {
   "cell_type": "code",
   "execution_count": null,
   "metadata": {},
   "outputs": [],
   "source": []
  }
 ],
 "metadata": {
  "kernelspec": {
   "display_name": "Python 3",
   "language": "python",
   "name": "python3"
  },
  "language_info": {
   "codemirror_mode": {
    "name": "ipython",
    "version": 3
   },
   "file_extension": ".py",
   "mimetype": "text/x-python",
   "name": "python",
   "nbconvert_exporter": "python",
   "pygments_lexer": "ipython3",
   "version": "3.6.3"
  }
 },
 "nbformat": 4,
 "nbformat_minor": 2
}
